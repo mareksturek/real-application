{
 "cells": [
  {
   "cell_type": "markdown",
   "metadata": {
    "id": "M27qF7CTrBqc"
   },
   "source": [
    "## Ice cream daily revenue \n",
    "\n",
    "The goal is to predict daily revenue in dollars based on the outside aire temperature (degC) for an ice cream business with ANN. "
   ]
  },
  {
   "cell_type": "markdown",
   "metadata": {},
   "source": [
    "---"
   ]
  },
  {
   "cell_type": "code",
   "execution_count": 1,
   "metadata": {
    "colab": {
     "base_uri": "https://localhost:8080/",
     "height": 505
    },
    "id": "96V_NSAYaCev",
    "outputId": "b306fccd-0046-4f4e-d277-0d4f16fc1edc"
   },
   "outputs": [],
   "source": [
    "# Import libraries \n",
    "\n",
    "import tensorflow as tf\n",
    "import pandas as pd\n",
    "import numpy as np\n",
    "import seaborn as sns\n",
    "import matplotlib.pyplot as plt"
   ]
  },
  {
   "cell_type": "code",
   "execution_count": 2,
   "metadata": {
    "id": "mLjnytV6eMA0"
   },
   "outputs": [
    {
     "data": {
      "text/html": [
       "<div>\n",
       "<style scoped>\n",
       "    .dataframe tbody tr th:only-of-type {\n",
       "        vertical-align: middle;\n",
       "    }\n",
       "\n",
       "    .dataframe tbody tr th {\n",
       "        vertical-align: top;\n",
       "    }\n",
       "\n",
       "    .dataframe thead th {\n",
       "        text-align: right;\n",
       "    }\n",
       "</style>\n",
       "<table border=\"1\" class=\"dataframe\">\n",
       "  <thead>\n",
       "    <tr style=\"text-align: right;\">\n",
       "      <th></th>\n",
       "      <th>Temperature</th>\n",
       "      <th>Revenue</th>\n",
       "    </tr>\n",
       "  </thead>\n",
       "  <tbody>\n",
       "    <tr>\n",
       "      <th>0</th>\n",
       "      <td>24.566884</td>\n",
       "      <td>534.799028</td>\n",
       "    </tr>\n",
       "    <tr>\n",
       "      <th>1</th>\n",
       "      <td>26.005191</td>\n",
       "      <td>625.190122</td>\n",
       "    </tr>\n",
       "    <tr>\n",
       "      <th>2</th>\n",
       "      <td>27.790554</td>\n",
       "      <td>660.632289</td>\n",
       "    </tr>\n",
       "    <tr>\n",
       "      <th>3</th>\n",
       "      <td>20.595335</td>\n",
       "      <td>487.706960</td>\n",
       "    </tr>\n",
       "    <tr>\n",
       "      <th>4</th>\n",
       "      <td>11.503498</td>\n",
       "      <td>316.240194</td>\n",
       "    </tr>\n",
       "  </tbody>\n",
       "</table>\n",
       "</div>"
      ],
      "text/plain": [
       "   Temperature     Revenue\n",
       "0    24.566884  534.799028\n",
       "1    26.005191  625.190122\n",
       "2    27.790554  660.632289\n",
       "3    20.595335  487.706960\n",
       "4    11.503498  316.240194"
      ]
     },
     "execution_count": 2,
     "metadata": {},
     "output_type": "execute_result"
    }
   ],
   "source": [
    "# Import dataset\n",
    "\n",
    "sales_df = pd.read_csv('~/Documents/GitHub/real-application/data//sales_ice.csv')\n",
    "sales_df.head()"
   ]
  },
  {
   "cell_type": "code",
   "execution_count": 3,
   "metadata": {
    "colab": {
     "base_uri": "https://localhost:8080/",
     "height": 139
    },
    "id": "hMq3-KWOx0e1",
    "outputId": "63cb6718-0914-4ef4-b9d0-00037f9b9502"
   },
   "outputs": [
    {
     "name": "stdout",
     "output_type": "stream",
     "text": [
      "<class 'pandas.core.frame.DataFrame'>\n",
      "RangeIndex: 500 entries, 0 to 499\n",
      "Data columns (total 2 columns):\n",
      " #   Column       Non-Null Count  Dtype  \n",
      "---  ------       --------------  -----  \n",
      " 0   Temperature  500 non-null    float64\n",
      " 1   Revenue      500 non-null    float64\n",
      "dtypes: float64(2)\n",
      "memory usage: 7.9 KB\n"
     ]
    }
   ],
   "source": [
    "# Dataset information\n",
    "\n",
    "sales_df.info()"
   ]
  },
  {
   "cell_type": "code",
   "execution_count": 4,
   "metadata": {
    "colab": {
     "base_uri": "https://localhost:8080/",
     "height": 294
    },
    "id": "s0E9xPLdx2Ok",
    "outputId": "c4f55b96-1746-4137-e008-e49e4b62a05f"
   },
   "outputs": [
    {
     "data": {
      "text/html": [
       "<div>\n",
       "<style scoped>\n",
       "    .dataframe tbody tr th:only-of-type {\n",
       "        vertical-align: middle;\n",
       "    }\n",
       "\n",
       "    .dataframe tbody tr th {\n",
       "        vertical-align: top;\n",
       "    }\n",
       "\n",
       "    .dataframe thead th {\n",
       "        text-align: right;\n",
       "    }\n",
       "</style>\n",
       "<table border=\"1\" class=\"dataframe\">\n",
       "  <thead>\n",
       "    <tr style=\"text-align: right;\">\n",
       "      <th></th>\n",
       "      <th>Temperature</th>\n",
       "      <th>Revenue</th>\n",
       "    </tr>\n",
       "  </thead>\n",
       "  <tbody>\n",
       "    <tr>\n",
       "      <th>count</th>\n",
       "      <td>500.000000</td>\n",
       "      <td>500.000000</td>\n",
       "    </tr>\n",
       "    <tr>\n",
       "      <th>mean</th>\n",
       "      <td>22.232225</td>\n",
       "      <td>521.570777</td>\n",
       "    </tr>\n",
       "    <tr>\n",
       "      <th>std</th>\n",
       "      <td>8.096388</td>\n",
       "      <td>175.404751</td>\n",
       "    </tr>\n",
       "    <tr>\n",
       "      <th>min</th>\n",
       "      <td>0.000000</td>\n",
       "      <td>10.000000</td>\n",
       "    </tr>\n",
       "    <tr>\n",
       "      <th>25%</th>\n",
       "      <td>17.122258</td>\n",
       "      <td>405.558681</td>\n",
       "    </tr>\n",
       "    <tr>\n",
       "      <th>50%</th>\n",
       "      <td>22.392791</td>\n",
       "      <td>529.368565</td>\n",
       "    </tr>\n",
       "    <tr>\n",
       "      <th>75%</th>\n",
       "      <td>27.740674</td>\n",
       "      <td>642.257922</td>\n",
       "    </tr>\n",
       "    <tr>\n",
       "      <th>max</th>\n",
       "      <td>45.000000</td>\n",
       "      <td>1000.000000</td>\n",
       "    </tr>\n",
       "  </tbody>\n",
       "</table>\n",
       "</div>"
      ],
      "text/plain": [
       "       Temperature      Revenue\n",
       "count   500.000000   500.000000\n",
       "mean     22.232225   521.570777\n",
       "std       8.096388   175.404751\n",
       "min       0.000000    10.000000\n",
       "25%      17.122258   405.558681\n",
       "50%      22.392791   529.368565\n",
       "75%      27.740674   642.257922\n",
       "max      45.000000  1000.000000"
      ]
     },
     "execution_count": 4,
     "metadata": {},
     "output_type": "execute_result"
    }
   ],
   "source": [
    "# Dataset summary\n",
    "\n",
    "sales_df.describe()"
   ]
  },
  {
   "cell_type": "code",
   "execution_count": 5,
   "metadata": {
    "colab": {
     "base_uri": "https://localhost:8080/",
     "height": 301
    },
    "id": "TYcWopZVyvAs",
    "outputId": "34173fd6-941c-4451-c6cc-2fbe077eb0d1"
   },
   "outputs": [
    {
     "data": {
      "image/png": "[encoded data removed]",
      "text/plain": [
       "<Figure size 432x288 with 1 Axes>"
      ]
     },
     "metadata": {
      "needs_background": "light"
     },
     "output_type": "display_data"
    }
   ],
   "source": [
    "# Dataset vizualization\n",
    "\n",
    "import warnings\n",
    "warnings.filterwarnings(\"ignore\")\n",
    "\n",
    "sns.scatterplot(sales_df['Temperature'], sales_df['Revenue']);"
   ]
  },
  {
   "cell_type": "code",
   "execution_count": 6,
   "metadata": {
    "id": "0-maV8hb9rYM"
   },
   "outputs": [
    {
     "name": "stdout",
     "output_type": "stream",
     "text": [
      "(500,)\n",
      "(500,)\n"
     ]
    }
   ],
   "source": [
    "# Training & testing dataset\n",
    "\n",
    "X_train = sales_df['Temperature']\n",
    "y_train = sales_df['Revenue']\n",
    "print(X_train.shape)\n",
    "print(y_train.shape)"
   ]
  },
  {
   "cell_type": "code",
   "execution_count": 7,
   "metadata": {
    "id": "Yl6fmPJj3cCX"
   },
   "outputs": [
    {
     "data": {
      "text/plain": [
       "<bound method Model.summary of <tensorflow.python.keras.engine.sequential.Sequential object at 0x7fcfcf582340>>"
      ]
     },
     "execution_count": 7,
     "metadata": {},
     "output_type": "execute_result"
    }
   ],
   "source": [
    "# Build ANN model\n",
    "\n",
    "model = tf.keras.Sequential()\n",
    "model.add(tf.keras.layers.Dense(units = 1, input_shape = [1]))\n",
    "model.summary"
   ]
  },
  {
   "cell_type": "code",
   "execution_count": 8,
   "metadata": {
    "colab": {
     "base_uri": "https://localhost:8080/",
     "height": 191
    },
    "id": "GUd71odB4v-i",
    "outputId": "ef5c3d8d-76fd-4fb5-f982-ef3adbf91782"
   },
   "outputs": [
    {
     "name": "stdout",
     "output_type": "stream",
     "text": [
      "Model: \"sequential\"\n",
      "_________________________________________________________________\n",
      "Layer (type)                 Output Shape              Param #   \n",
      "=================================================================\n",
      "dense (Dense)                (None, 1)                 2         \n",
      "=================================================================\n",
      "Total params: 2\n",
      "Trainable params: 2\n",
      "Non-trainable params: 0\n",
      "_________________________________________________________________\n"
     ]
    }
   ],
   "source": [
    "model.summary()"
   ]
  },
  {
   "cell_type": "code",
   "execution_count": 9,
   "metadata": {
    "id": "BYmvNpNw5Act"
   },
   "outputs": [],
   "source": [
    "# Complile the ANN model\n",
    "\n",
    "model.compile(optimizer=tf.keras.optimizers.Adam(0.1), loss = 'mean_squared_error')"
   ]
  },
  {
   "cell_type": "code",
   "execution_count": 10,
   "metadata": {
    "colab": {
     "base_uri": "https://localhost:8080/",
     "height": 1000
    },
    "id": "tpia0VBS5Ljw",
    "outputId": "1f4e0ee5-5369-4adb-8930-caf4522d77b6"
   },
   "outputs": [
    {
     "name": "stdout",
     "output_type": "stream",
     "text": [
      "Epoch 1/100\n",
      "16/16 [==============================] - 0s 3ms/step - loss: 299378.8750\n",
      "Epoch 2/100\n",
      "16/16 [==============================] - 0s 6ms/step - loss: 258671.5156\n",
      "Epoch 3/100\n",
      "16/16 [==============================] - 0s 3ms/step - loss: 221238.7969\n",
      "Epoch 4/100\n",
      "16/16 [==============================] - 0s 4ms/step - loss: 188739.0156\n",
      "Epoch 5/100\n",
      "16/16 [==============================] - 0s 3ms/step - loss: 159638.7188\n",
      "Epoch 6/100\n",
      "16/16 [==============================] - 0s 5ms/step - loss: 134167.3125\n",
      "Epoch 7/100\n",
      "16/16 [==============================] - 0s 2ms/step - loss: 112064.8438\n",
      "Epoch 8/100\n",
      "16/16 [==============================] - 0s 2ms/step - loss: 93016.4141\n",
      "Epoch 9/100\n",
      "16/16 [==============================] - 0s 2ms/step - loss: 76520.3672\n",
      "Epoch 10/100\n",
      "16/16 [==============================] - 0s 2ms/step - loss: 62596.1328\n",
      "Epoch 11/100\n",
      "16/16 [==============================] - 0s 2ms/step - loss: 50787.2031\n",
      "Epoch 12/100\n",
      "16/16 [==============================] - 0s 2ms/step - loss: 40972.7070\n",
      "Epoch 13/100\n",
      "16/16 [==============================] - 0s 7ms/step - loss: 32685.8887\n",
      "Epoch 14/100\n",
      "16/16 [==============================] - 0s 3ms/step - loss: 26084.3184\n",
      "Epoch 15/100\n",
      "16/16 [==============================] - 0s 2ms/step - loss: 20574.9453\n",
      "Epoch 16/100\n",
      "16/16 [==============================] - 0s 6ms/step - loss: 16138.6797\n",
      "Epoch 17/100\n",
      "16/16 [==============================] - 0s 6ms/step - loss: 12537.2051\n",
      "Epoch 18/100\n",
      "16/16 [==============================] - 0s 4ms/step - loss: 9779.6162\n",
      "Epoch 19/100\n",
      "16/16 [==============================] - 0s 4ms/step - loss: 7528.7354\n",
      "Epoch 20/100\n",
      "16/16 [==============================] - 0s 3ms/step - loss: 5830.6030\n",
      "Epoch 21/100\n",
      "16/16 [==============================] - 0s 2ms/step - loss: 4512.3101\n",
      "Epoch 22/100\n",
      "16/16 [==============================] - 0s 2ms/step - loss: 3499.3533\n",
      "Epoch 23/100\n",
      "16/16 [==============================] - 0s 2ms/step - loss: 2743.6621\n",
      "Epoch 24/100\n",
      "16/16 [==============================] - 0s 4ms/step - loss: 2166.0962\n",
      "Epoch 25/100\n",
      "16/16 [==============================] - 0s 2ms/step - loss: 1745.3623\n",
      "Epoch 26/100\n",
      "16/16 [==============================] - 0s 2ms/step - loss: 1436.0450\n",
      "Epoch 27/100\n",
      "16/16 [==============================] - 0s 2ms/step - loss: 1210.1581\n",
      "Epoch 28/100\n",
      "16/16 [==============================] - 0s 2ms/step - loss: 1046.4785\n",
      "Epoch 29/100\n",
      "16/16 [==============================] - 0s 2ms/step - loss: 931.3433\n",
      "Epoch 30/100\n",
      "16/16 [==============================] - 0s 2ms/step - loss: 852.0232\n",
      "Epoch 31/100\n",
      "16/16 [==============================] - 0s 2ms/step - loss: 794.9711\n",
      "Epoch 32/100\n",
      "16/16 [==============================] - 0s 2ms/step - loss: 756.3358\n",
      "Epoch 33/100\n",
      "16/16 [==============================] - 0s 1ms/step - loss: 729.8795\n",
      "Epoch 34/100\n",
      "16/16 [==============================] - 0s 1ms/step - loss: 711.9557\n",
      "Epoch 35/100\n",
      "16/16 [==============================] - 0s 2ms/step - loss: 700.0148\n",
      "Epoch 36/100\n",
      "16/16 [==============================] - 0s 1ms/step - loss: 691.7370\n",
      "Epoch 37/100\n",
      "16/16 [==============================] - 0s 2ms/step - loss: 687.6799\n",
      "Epoch 38/100\n",
      "16/16 [==============================] - 0s 2ms/step - loss: 683.0934\n",
      "Epoch 39/100\n",
      "16/16 [==============================] - 0s 2ms/step - loss: 680.7424\n",
      "Epoch 40/100\n",
      "16/16 [==============================] - 0s 2ms/step - loss: 679.1381\n",
      "Epoch 41/100\n",
      "16/16 [==============================] - 0s 2ms/step - loss: 677.9228\n",
      "Epoch 42/100\n",
      "16/16 [==============================] - 0s 2ms/step - loss: 677.2181\n",
      "Epoch 43/100\n",
      "16/16 [==============================] - 0s 1ms/step - loss: 676.7529\n",
      "Epoch 44/100\n",
      "16/16 [==============================] - 0s 5ms/step - loss: 676.3795\n",
      "Epoch 45/100\n",
      "16/16 [==============================] - 0s 2ms/step - loss: 676.4063\n",
      "Epoch 46/100\n",
      "16/16 [==============================] - 0s 4ms/step - loss: 676.1201\n",
      "Epoch 47/100\n",
      "16/16 [==============================] - 0s 2ms/step - loss: 675.9465\n",
      "Epoch 48/100\n",
      "16/16 [==============================] - 0s 3ms/step - loss: 675.6915\n",
      "Epoch 49/100\n",
      "16/16 [==============================] - 0s 2ms/step - loss: 675.6222\n",
      "Epoch 50/100\n",
      "16/16 [==============================] - 0s 2ms/step - loss: 675.5143\n",
      "Epoch 51/100\n",
      "16/16 [==============================] - 0s 2ms/step - loss: 675.4238\n",
      "Epoch 52/100\n",
      "16/16 [==============================] - 0s 3ms/step - loss: 675.2564\n",
      "Epoch 53/100\n",
      "16/16 [==============================] - 0s 5ms/step - loss: 675.1848\n",
      "Epoch 54/100\n",
      "16/16 [==============================] - 0s 2ms/step - loss: 674.9404\n",
      "Epoch 55/100\n",
      "16/16 [==============================] - 0s 4ms/step - loss: 674.9229\n",
      "Epoch 56/100\n",
      "16/16 [==============================] - 0s 2ms/step - loss: 674.7523\n",
      "Epoch 57/100\n",
      "16/16 [==============================] - 0s 2ms/step - loss: 674.5317\n",
      "Epoch 58/100\n",
      "16/16 [==============================] - 0s 2ms/step - loss: 674.6826\n",
      "Epoch 59/100\n",
      "16/16 [==============================] - 0s 2ms/step - loss: 674.3489\n",
      "Epoch 60/100\n",
      "16/16 [==============================] - ETA: 0s - loss: 698.534 - 0s 2ms/step - loss: 674.1255\n",
      "Epoch 61/100\n",
      "16/16 [==============================] - 0s 2ms/step - loss: 674.0148\n",
      "Epoch 62/100\n",
      "16/16 [==============================] - 0s 2ms/step - loss: 673.8961\n",
      "Epoch 63/100\n",
      "16/16 [==============================] - 0s 2ms/step - loss: 673.7462\n",
      "Epoch 64/100\n",
      "16/16 [==============================] - 0s 1ms/step - loss: 673.5775\n",
      "Epoch 65/100\n",
      "16/16 [==============================] - 0s 2ms/step - loss: 673.6754\n",
      "Epoch 66/100\n",
      "16/16 [==============================] - 0s 1ms/step - loss: 673.2719\n",
      "Epoch 67/100\n",
      "16/16 [==============================] - 0s 1ms/step - loss: 673.4285\n",
      "Epoch 68/100\n",
      "16/16 [==============================] - 0s 1ms/step - loss: 673.0192\n",
      "Epoch 69/100\n",
      "16/16 [==============================] - 0s 1ms/step - loss: 673.1279\n",
      "Epoch 70/100\n",
      "16/16 [==============================] - 0s 1ms/step - loss: 672.6538\n",
      "Epoch 71/100\n",
      "16/16 [==============================] - 0s 1ms/step - loss: 672.8730\n",
      "Epoch 72/100\n",
      "16/16 [==============================] - 0s 1ms/step - loss: 672.4874\n",
      "Epoch 73/100\n",
      "16/16 [==============================] - 0s 1ms/step - loss: 672.2651\n",
      "Epoch 74/100\n",
      "16/16 [==============================] - 0s 1ms/step - loss: 672.2055\n",
      "Epoch 75/100\n",
      "16/16 [==============================] - 0s 940us/step - loss: 671.9384\n",
      "Epoch 76/100\n",
      "16/16 [==============================] - 0s 952us/step - loss: 671.7985\n",
      "Epoch 77/100\n",
      "16/16 [==============================] - 0s 1ms/step - loss: 671.6890\n",
      "Epoch 78/100\n",
      "16/16 [==============================] - 0s 1ms/step - loss: 671.4878\n",
      "Epoch 79/100\n",
      "16/16 [==============================] - 0s 963us/step - loss: 671.4086\n",
      "Epoch 80/100\n",
      "16/16 [==============================] - 0s 1ms/step - loss: 671.2605\n",
      "Epoch 81/100\n",
      "16/16 [==============================] - 0s 1ms/step - loss: 671.0172\n",
      "Epoch 82/100\n",
      "16/16 [==============================] - 0s 1ms/step - loss: 670.9214\n",
      "Epoch 83/100\n",
      "16/16 [==============================] - 0s 2ms/step - loss: 670.6978\n",
      "Epoch 84/100\n",
      "16/16 [==============================] - 0s 1ms/step - loss: 670.4760\n",
      "Epoch 85/100\n",
      "16/16 [==============================] - 0s 1ms/step - loss: 670.3391\n",
      "Epoch 86/100\n",
      "16/16 [==============================] - 0s 1ms/step - loss: 670.4584\n",
      "Epoch 87/100\n",
      "16/16 [==============================] - 0s 1ms/step - loss: 670.0388\n",
      "Epoch 88/100\n",
      "16/16 [==============================] - 0s 1ms/step - loss: 670.0014\n",
      "Epoch 89/100\n",
      "16/16 [==============================] - 0s 1ms/step - loss: 669.8721\n",
      "Epoch 90/100\n",
      "16/16 [==============================] - 0s 904us/step - loss: 669.6249\n",
      "Epoch 91/100\n",
      "16/16 [==============================] - 0s 1ms/step - loss: 669.3358\n",
      "Epoch 92/100\n",
      "16/16 [==============================] - 0s 1ms/step - loss: 669.1890\n",
      "Epoch 93/100\n",
      "16/16 [==============================] - 0s 965us/step - loss: 668.9520\n",
      "Epoch 94/100\n",
      "16/16 [==============================] - 0s 1ms/step - loss: 668.7742\n",
      "Epoch 95/100\n",
      "16/16 [==============================] - 0s 1ms/step - loss: 668.6585\n",
      "Epoch 96/100\n",
      "16/16 [==============================] - 0s 1ms/step - loss: 668.6644\n",
      "Epoch 97/100\n",
      "16/16 [==============================] - 0s 1ms/step - loss: 668.2597\n",
      "Epoch 98/100\n"
     ]
    },
    {
     "name": "stdout",
     "output_type": "stream",
     "text": [
      "16/16 [==============================] - 0s 1ms/step - loss: 668.7236\n",
      "Epoch 99/100\n",
      "16/16 [==============================] - 0s 1ms/step - loss: 667.7954\n",
      "Epoch 100/100\n",
      "16/16 [==============================] - 0s 1ms/step - loss: 667.8102\n"
     ]
    }
   ],
   "source": [
    "# Train ANN model\n",
    "\n",
    "epochs_hist = model.fit(X_train, y_train, epochs = 100)"
   ]
  },
  {
   "cell_type": "code",
   "execution_count": 11,
   "metadata": {
    "colab": {
     "base_uri": "https://localhost:8080/",
     "height": 35
    },
    "id": "dfUb63035TJL",
    "outputId": "b7ab4e08-d96f-4645-fb73-e74b09abad5f"
   },
   "outputs": [
    {
     "data": {
      "text/plain": [
       "dict_keys(['loss'])"
      ]
     },
     "execution_count": 11,
     "metadata": {},
     "output_type": "execute_result"
    }
   ],
   "source": [
    "# Evaluate the ANN model\n",
    "\n",
    "epochs_hist.history.keys()"
   ]
  },
  {
   "cell_type": "code",
   "execution_count": 12,
   "metadata": {
    "colab": {
     "base_uri": "https://localhost:8080/",
     "height": 313
    },
    "id": "eXiDop_l5erJ",
    "outputId": "c02809cc-fdd9-4cfb-8e1c-ba27cc9f08d5"
   },
   "outputs": [
    {
     "data": {
      "text/plain": [
       "<matplotlib.legend.Legend at 0x7fcfcfe43e50>"
      ]
     },
     "execution_count": 12,
     "metadata": {},
     "output_type": "execute_result"
    },
    {
     "data": {
      "image/png": "[encoded data removed]",
      "text/plain": [
       "<Figure size 432x288 with 1 Axes>"
      ]
     },
     "metadata": {
      "needs_background": "light"
     },
     "output_type": "display_data"
    }
   ],
   "source": [
    "# Plot the loss function\n",
    "\n",
    "plt.plot(epochs_hist.history['loss'])\n",
    "plt.title('Model Loss Progress During Training')\n",
    "plt.xlabel('Epoch')\n",
    "plt.ylabel('Training Loss')\n",
    "plt.legend(['Training Loss'])"
   ]
  },
  {
   "cell_type": "code",
   "execution_count": 13,
   "metadata": {
    "colab": {
     "base_uri": "https://localhost:8080/",
     "height": 35
    },
    "id": "yFYpuUJWBn6L",
    "outputId": "b78e4178-c64b-4107-80e1-0f06d988af17"
   },
   "outputs": [
    {
     "data": {
      "text/plain": [
       "[array([[22.220005]], dtype=float32), array([25.339775], dtype=float32)]"
      ]
     },
     "execution_count": 13,
     "metadata": {},
     "output_type": "execute_result"
    }
   ],
   "source": [
    "# The most important, weights of the ANN model\n",
    "\n",
    "model.get_weights()"
   ]
  },
  {
   "cell_type": "code",
   "execution_count": 14,
   "metadata": {
    "colab": {
     "base_uri": "https://localhost:8080/",
     "height": 35
    },
    "id": "isfjfT735fjD",
    "outputId": "da44667a-d6e6-4595-dc98-1aacfe4243e4"
   },
   "outputs": [
    {
     "name": "stdout",
     "output_type": "stream",
     "text": [
      "Revenue Predictions Using Trained ANN = [[136.43979]]\n"
     ]
    }
   ],
   "source": [
    "# Use the trained model to perform predictions\n",
    "\n",
    "Temp = 5\n",
    "Revenue = model.predict([Temp])\n",
    "print('Revenue Predictions Using Trained ANN =', Revenue)"
   ]
  },
  {
   "cell_type": "code",
   "execution_count": 15,
   "metadata": {
    "colab": {
     "base_uri": "https://localhost:8080/",
     "height": 313
    },
    "id": "CnbDTixOaB-V",
    "outputId": "c3fc6f60-0995-4f52-9ee9-28f0513799e0"
   },
   "outputs": [
    {
     "data": {
      "text/plain": [
       "Text(0.5, 1.0, 'Revenue Generated vs. Temperature')"
      ]
     },
     "execution_count": 15,
     "metadata": {},
     "output_type": "execute_result"
    },
    {
     "data": {
      "image/png": "[encoded data removed]",
      "text/plain": [
       "<Figure size 432x288 with 1 Axes>"
      ]
     },
     "metadata": {
      "needs_background": "light"
     },
     "output_type": "display_data"
    }
   ],
   "source": [
    "# The scatter plot\n",
    "\n",
    "plt.scatter(X_train, y_train, color = 'gray')\n",
    "plt.plot(X_train, model.predict(X_train), color = 'red')\n",
    "plt.ylabel('Revenue [dollars]')\n",
    "plt.xlabel('Temperature [degC]')\n",
    "plt.title('Revenue Generated vs. Temperature')"
   ]
  },
  {
   "cell_type": "code",
   "execution_count": 16,
   "metadata": {
    "id": "ybYof7hSdM5I"
   },
   "outputs": [
    {
     "name": "stdout",
     "output_type": "stream",
     "text": [
      "(500, 1)\n",
      "(500, 1)\n"
     ]
    }
   ],
   "source": [
    "# Confirm, using regression kit in Scikit learn\n",
    "\n",
    "# Reshape training dataset\n",
    "\n",
    "X_train = X_train.values.reshape(-1,1)\n",
    "y_train = y_train.values.reshape(-1,1)\n",
    "print(X_train.shape)\n",
    "print(y_train.shape)"
   ]
  },
  {
   "cell_type": "code",
   "execution_count": 17,
   "metadata": {
    "colab": {
     "base_uri": "https://localhost:8080/",
     "height": 35
    },
    "id": "L5bpK-EWcW1b",
    "outputId": "b9f2e7cb-2fdd-45a7-9f31-e96ac9bdf76f"
   },
   "outputs": [
    {
     "data": {
      "text/plain": [
       "LinearRegression()"
      ]
     },
     "execution_count": 17,
     "metadata": {},
     "output_type": "execute_result"
    }
   ],
   "source": [
    "# Linear Regression model \n",
    "\n",
    "from sklearn.linear_model import LinearRegression\n",
    "\n",
    "regressor = LinearRegression(fit_intercept = True)\n",
    "regressor.fit(X_train, y_train)"
   ]
  },
  {
   "cell_type": "code",
   "execution_count": 18,
   "metadata": {
    "colab": {
     "base_uri": "https://localhost:8080/",
     "height": 52
    },
    "id": "uUyzZYAHcrgs",
    "outputId": "0ecd0197-0310-4e02-c8f6-a5eb0c6c024c"
   },
   "outputs": [
    {
     "name": "stdout",
     "output_type": "stream",
     "text": [
      "Linear Model Coeff(m) [[21.44362551]]\n",
      "Linear Model Coeff(b) [44.83126709]\n"
     ]
    }
   ],
   "source": [
    "# Print coefficient m, b\n",
    "\n",
    "print('Linear Model Coeff(m)', regressor.coef_)\n",
    "print('Linear Model Coeff(b)', regressor.intercept_)"
   ]
  },
  {
   "cell_type": "code",
   "execution_count": 19,
   "metadata": {
    "colab": {
     "base_uri": "https://localhost:8080/",
     "height": 313
    },
    "id": "BQRkG80MdycN",
    "outputId": "ee0fa862-465f-4f46-d6bb-de824c74cc01"
   },
   "outputs": [
    {
     "data": {
      "text/plain": [
       "Text(0.5, 1.0, 'Revenue Generated vs. Temperature')"
      ]
     },
     "execution_count": 19,
     "metadata": {},
     "output_type": "execute_result"
    },
    {
     "data": {
      "image/png": "[encoded data removed]",
      "text/plain": [
       "<Figure size 432x288 with 1 Axes>"
      ]
     },
     "metadata": {
      "needs_background": "light"
     },
     "output_type": "display_data"
    }
   ],
   "source": [
    "# The scatter plot \n",
    "\n",
    "plt.scatter(X_train, y_train, color = 'gray')\n",
    "plt.plot(X_train, regressor.predict(X_train), color = 'red')\n",
    "plt.ylabel('Revenue [dollars]')\n",
    "plt.xlabel('Temperature [degC]')\n",
    "plt.title('Revenue Generated vs. Temperature')"
   ]
  }
 ],
 "metadata": {
  "accelerator": "GPU",
  "colab": {
   "collapsed_sections": [],
   "name": "2. Develop a Model to Predict Ice Cream Sales Using Temperature - Solutions.ipynb",
   "provenance": []
  },
  "kernelspec": {
   "display_name": "Python 3",
   "language": "python",
   "name": "python3"
  },
  "language_info": {
   "codemirror_mode": {
    "name": "ipython",
    "version": 3
   },
   "file_extension": ".py",
   "mimetype": "text/x-python",
   "name": "python",
   "nbconvert_exporter": "python",
   "pygments_lexer": "ipython3",
   "version": "3.8.6"
  }
 },
 "nbformat": 4,
 "nbformat_minor": 1
}
