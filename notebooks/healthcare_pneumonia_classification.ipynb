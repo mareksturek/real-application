{
 "cells": [
  {
   "cell_type": "markdown",
   "metadata": {
    "id": "M27qF7CTrBqc"
   },
   "source": [
    "## Pneumonia Classification\n",
    "\n",
    "The goal is to build a classifier that predicts whether a patient has pneumonia based on their record. "
   ]
  },
  {
   "cell_type": "markdown",
   "metadata": {},
   "source": [
    "---"
   ]
  },
  {
   "cell_type": "code",
   "execution_count": 1,
   "metadata": {
    "colab": {
     "base_uri": "https://localhost:8080/",
     "height": 363
    },
    "id": "S0Cx3743urFY",
    "outputId": "1eb833e2-9961-499d-b9ba-2471aa3601b3"
   },
   "outputs": [],
   "source": [
    "# Import libraries\n",
    "\n",
    "import tensorflow as tf\n",
    "import pandas as pd\n",
    "import numpy as np\n",
    "import seaborn as sns\n",
    "import matplotlib.pyplot as plt"
   ]
  },
  {
   "cell_type": "code",
   "execution_count": 2,
   "metadata": {
    "id": "tjIiJdM4u1IE"
   },
   "outputs": [
    {
     "data": {
      "text/html": [
       "<div>\n",
       "<style scoped>\n",
       "    .dataframe tbody tr th:only-of-type {\n",
       "        vertical-align: middle;\n",
       "    }\n",
       "\n",
       "    .dataframe tbody tr th {\n",
       "        vertical-align: top;\n",
       "    }\n",
       "\n",
       "    .dataframe thead th {\n",
       "        text-align: right;\n",
       "    }\n",
       "</style>\n",
       "<table border=\"1\" class=\"dataframe\">\n",
       "  <thead>\n",
       "    <tr style=\"text-align: right;\">\n",
       "      <th></th>\n",
       "      <th>age</th>\n",
       "      <th>sex</th>\n",
       "      <th>adm</th>\n",
       "      <th>sbp</th>\n",
       "      <th>scl</th>\n",
       "      <th>agl</th>\n",
       "      <th>inf</th>\n",
       "      <th>her</th>\n",
       "      <th>mur</th>\n",
       "      <th>std</th>\n",
       "      <th>ste</th>\n",
       "      <th>flu</th>\n",
       "      <th>target</th>\n",
       "    </tr>\n",
       "  </thead>\n",
       "  <tbody>\n",
       "    <tr>\n",
       "      <th>0</th>\n",
       "      <td>65</td>\n",
       "      <td>m</td>\n",
       "      <td>d</td>\n",
       "      <td>149</td>\n",
       "      <td>234</td>\n",
       "      <td>t</td>\n",
       "      <td>0</td>\n",
       "      <td>150</td>\n",
       "      <td>f</td>\n",
       "      <td>2.3</td>\n",
       "      <td>0</td>\n",
       "      <td>0</td>\n",
       "      <td>t</td>\n",
       "    </tr>\n",
       "    <tr>\n",
       "      <th>1</th>\n",
       "      <td>41</td>\n",
       "      <td>m</td>\n",
       "      <td>c</td>\n",
       "      <td>135</td>\n",
       "      <td>253</td>\n",
       "      <td>f</td>\n",
       "      <td>1</td>\n",
       "      <td>190</td>\n",
       "      <td>f</td>\n",
       "      <td>3.5</td>\n",
       "      <td>0</td>\n",
       "      <td>0</td>\n",
       "      <td>t</td>\n",
       "    </tr>\n",
       "    <tr>\n",
       "      <th>2</th>\n",
       "      <td>44</td>\n",
       "      <td>f</td>\n",
       "      <td>b</td>\n",
       "      <td>135</td>\n",
       "      <td>207</td>\n",
       "      <td>f</td>\n",
       "      <td>0</td>\n",
       "      <td>174</td>\n",
       "      <td>f</td>\n",
       "      <td>1.4</td>\n",
       "      <td>2</td>\n",
       "      <td>0</td>\n",
       "      <td>t</td>\n",
       "    </tr>\n",
       "    <tr>\n",
       "      <th>3</th>\n",
       "      <td>57</td>\n",
       "      <td>m</td>\n",
       "      <td>b</td>\n",
       "      <td>125</td>\n",
       "      <td>239</td>\n",
       "      <td>f</td>\n",
       "      <td>1</td>\n",
       "      <td>179</td>\n",
       "      <td>f</td>\n",
       "      <td>0.8</td>\n",
       "      <td>2</td>\n",
       "      <td>0</td>\n",
       "      <td>t</td>\n",
       "    </tr>\n",
       "    <tr>\n",
       "      <th>4</th>\n",
       "      <td>60</td>\n",
       "      <td>f</td>\n",
       "      <td>a</td>\n",
       "      <td>120</td>\n",
       "      <td>359</td>\n",
       "      <td>f</td>\n",
       "      <td>1</td>\n",
       "      <td>163</td>\n",
       "      <td>t</td>\n",
       "      <td>0.6</td>\n",
       "      <td>2</td>\n",
       "      <td>0</td>\n",
       "      <td>t</td>\n",
       "    </tr>\n",
       "  </tbody>\n",
       "</table>\n",
       "</div>"
      ],
      "text/plain": [
       "   age sex adm  sbp  scl agl  inf  her mur  std  ste  flu target\n",
       "0   65   m   d  149  234   t    0  150   f  2.3    0    0      t\n",
       "1   41   m   c  135  253   f    1  190   f  3.5    0    0      t\n",
       "2   44   f   b  135  207   f    0  174   f  1.4    2    0      t\n",
       "3   57   m   b  125  239   f    1  179   f  0.8    2    0      t\n",
       "4   60   f   a  120  359   f    1  163   t  0.6    2    0      t"
      ]
     },
     "execution_count": 2,
     "metadata": {},
     "output_type": "execute_result"
    }
   ],
   "source": [
    "# Import dataset\n",
    "\n",
    "pneumonia = pd.read_csv(\"~/Documents/GitHub/real-application/data/pneumonia.csv\")\n",
    "pneumonia.head()"
   ]
  },
  {
   "cell_type": "code",
   "execution_count": 3,
   "metadata": {
    "colab": {
     "base_uri": "https://localhost:8080/",
     "height": 257
    },
    "id": "hMq3-KWOx0e1",
    "outputId": "73d3085b-4323-4329-96ac-16b1bc091afe"
   },
   "outputs": [
    {
     "name": "stdout",
     "output_type": "stream",
     "text": [
      "<class 'pandas.core.frame.DataFrame'>\n",
      "RangeIndex: 299 entries, 0 to 298\n",
      "Data columns (total 13 columns):\n",
      " #   Column  Non-Null Count  Dtype  \n",
      "---  ------  --------------  -----  \n",
      " 0   age     299 non-null    int64  \n",
      " 1   sex     299 non-null    object \n",
      " 2   adm     299 non-null    object \n",
      " 3   sbp     299 non-null    int64  \n",
      " 4   scl     299 non-null    int64  \n",
      " 5   agl     299 non-null    object \n",
      " 6   inf     299 non-null    int64  \n",
      " 7   her     299 non-null    int64  \n",
      " 8   mur     299 non-null    object \n",
      " 9   std     299 non-null    float64\n",
      " 10  ste     299 non-null    int64  \n",
      " 11  flu     299 non-null    int64  \n",
      " 12  target  299 non-null    object \n",
      "dtypes: float64(1), int64(7), object(5)\n",
      "memory usage: 30.5+ KB\n"
     ]
    }
   ],
   "source": [
    "# Dataset information\n",
    "\n",
    "pneumonia.info()"
   ]
  },
  {
   "cell_type": "code",
   "execution_count": 4,
   "metadata": {
    "colab": {
     "base_uri": "https://localhost:8080/",
     "height": 315
    },
    "id": "s0E9xPLdx2Ok",
    "outputId": "6bbd0b72-98af-4e76-fff9-f53de4b4a157"
   },
   "outputs": [
    {
     "data": {
      "text/html": [
       "<div>\n",
       "<style scoped>\n",
       "    .dataframe tbody tr th:only-of-type {\n",
       "        vertical-align: middle;\n",
       "    }\n",
       "\n",
       "    .dataframe tbody tr th {\n",
       "        vertical-align: top;\n",
       "    }\n",
       "\n",
       "    .dataframe thead th {\n",
       "        text-align: right;\n",
       "    }\n",
       "</style>\n",
       "<table border=\"1\" class=\"dataframe\">\n",
       "  <thead>\n",
       "    <tr style=\"text-align: right;\">\n",
       "      <th></th>\n",
       "      <th>age</th>\n",
       "      <th>sbp</th>\n",
       "      <th>scl</th>\n",
       "      <th>inf</th>\n",
       "      <th>her</th>\n",
       "      <th>std</th>\n",
       "      <th>ste</th>\n",
       "      <th>flu</th>\n",
       "    </tr>\n",
       "  </thead>\n",
       "  <tbody>\n",
       "    <tr>\n",
       "      <th>count</th>\n",
       "      <td>299.000000</td>\n",
       "      <td>299.000000</td>\n",
       "      <td>299.000000</td>\n",
       "      <td>299.000000</td>\n",
       "      <td>299.000000</td>\n",
       "      <td>299.000000</td>\n",
       "      <td>299.000000</td>\n",
       "      <td>299.000000</td>\n",
       "    </tr>\n",
       "    <tr>\n",
       "      <th>mean</th>\n",
       "      <td>56.886288</td>\n",
       "      <td>133.969900</td>\n",
       "      <td>249.163880</td>\n",
       "      <td>0.528428</td>\n",
       "      <td>152.280936</td>\n",
       "      <td>1.039799</td>\n",
       "      <td>1.397993</td>\n",
       "      <td>0.695652</td>\n",
       "    </tr>\n",
       "    <tr>\n",
       "      <th>std</th>\n",
       "      <td>9.116718</td>\n",
       "      <td>17.596591</td>\n",
       "      <td>51.846281</td>\n",
       "      <td>0.526188</td>\n",
       "      <td>22.817220</td>\n",
       "      <td>1.161919</td>\n",
       "      <td>0.617526</td>\n",
       "      <td>0.981890</td>\n",
       "    </tr>\n",
       "    <tr>\n",
       "      <th>min</th>\n",
       "      <td>30.000000</td>\n",
       "      <td>96.000000</td>\n",
       "      <td>126.000000</td>\n",
       "      <td>0.000000</td>\n",
       "      <td>72.000000</td>\n",
       "      <td>0.000000</td>\n",
       "      <td>0.000000</td>\n",
       "      <td>0.000000</td>\n",
       "    </tr>\n",
       "    <tr>\n",
       "      <th>25%</th>\n",
       "      <td>50.000000</td>\n",
       "      <td>122.000000</td>\n",
       "      <td>214.000000</td>\n",
       "      <td>0.000000</td>\n",
       "      <td>137.500000</td>\n",
       "      <td>0.000000</td>\n",
       "      <td>1.000000</td>\n",
       "      <td>0.000000</td>\n",
       "    </tr>\n",
       "    <tr>\n",
       "      <th>50%</th>\n",
       "      <td>58.000000</td>\n",
       "      <td>132.000000</td>\n",
       "      <td>243.000000</td>\n",
       "      <td>1.000000</td>\n",
       "      <td>156.000000</td>\n",
       "      <td>0.800000</td>\n",
       "      <td>1.000000</td>\n",
       "      <td>0.000000</td>\n",
       "    </tr>\n",
       "    <tr>\n",
       "      <th>75%</th>\n",
       "      <td>63.000000</td>\n",
       "      <td>144.000000</td>\n",
       "      <td>277.500000</td>\n",
       "      <td>1.000000</td>\n",
       "      <td>168.000000</td>\n",
       "      <td>1.600000</td>\n",
       "      <td>2.000000</td>\n",
       "      <td>1.000000</td>\n",
       "    </tr>\n",
       "    <tr>\n",
       "      <th>max</th>\n",
       "      <td>77.000000</td>\n",
       "      <td>200.000000</td>\n",
       "      <td>565.000000</td>\n",
       "      <td>2.000000</td>\n",
       "      <td>204.000000</td>\n",
       "      <td>6.200000</td>\n",
       "      <td>2.000000</td>\n",
       "      <td>4.000000</td>\n",
       "    </tr>\n",
       "  </tbody>\n",
       "</table>\n",
       "</div>"
      ],
      "text/plain": [
       "              age         sbp         scl         inf         her         std  \\\n",
       "count  299.000000  299.000000  299.000000  299.000000  299.000000  299.000000   \n",
       "mean    56.886288  133.969900  249.163880    0.528428  152.280936    1.039799   \n",
       "std      9.116718   17.596591   51.846281    0.526188   22.817220    1.161919   \n",
       "min     30.000000   96.000000  126.000000    0.000000   72.000000    0.000000   \n",
       "25%     50.000000  122.000000  214.000000    0.000000  137.500000    0.000000   \n",
       "50%     58.000000  132.000000  243.000000    1.000000  156.000000    0.800000   \n",
       "75%     63.000000  144.000000  277.500000    1.000000  168.000000    1.600000   \n",
       "max     77.000000  200.000000  565.000000    2.000000  204.000000    6.200000   \n",
       "\n",
       "              ste         flu  \n",
       "count  299.000000  299.000000  \n",
       "mean     1.397993    0.695652  \n",
       "std      0.617526    0.981890  \n",
       "min      0.000000    0.000000  \n",
       "25%      1.000000    0.000000  \n",
       "50%      1.000000    0.000000  \n",
       "75%      2.000000    1.000000  \n",
       "max      2.000000    4.000000  "
      ]
     },
     "execution_count": 4,
     "metadata": {},
     "output_type": "execute_result"
    }
   ],
   "source": [
    "# Dataset summary \n",
    "\n",
    "pneumonia.describe()"
   ]
  },
  {
   "cell_type": "code",
   "execution_count": 5,
   "metadata": {
    "colab": {
     "base_uri": "https://localhost:8080/",
     "height": 300
    },
    "id": "TYcWopZVyvAs",
    "outputId": "8a16947a-4ed6-4346-f710-66b382af855f"
   },
   "outputs": [
    {
     "data": {
      "image/png": "[encoded data removed]",
      "text/plain": [
       "<Figure size 432x288 with 1 Axes>"
      ]
     },
     "metadata": {
      "needs_background": "light"
     },
     "output_type": "display_data"
    }
   ],
   "source": [
    "# Outcome vizualization\n",
    "\n",
    "sns.countplot(x = 'target', data = pneumonia);"
   ]
  },
  {
   "cell_type": "code",
   "execution_count": 6,
   "metadata": {
    "colab": {
     "base_uri": "https://localhost:8080/",
     "height": 408
    },
    "id": "inP-WwVNkQb9",
    "outputId": "ab053e2f-cef3-4ea8-9c68-425c379b1c21"
   },
   "outputs": [
    {
     "data": {
      "image/png": "[encoded data removed]",
      "text/plain": [
       "<Figure size 432x288 with 2 Axes>"
      ]
     },
     "metadata": {
      "needs_background": "light"
     },
     "output_type": "display_data"
    }
   ],
   "source": [
    "# Correlation plot\n",
    "\n",
    "sns.heatmap(pneumonia.corr(), annot = True);"
   ]
  },
  {
   "cell_type": "code",
   "execution_count": 7,
   "metadata": {},
   "outputs": [
    {
     "data": {
      "text/html": [
       "<div>\n",
       "<style scoped>\n",
       "    .dataframe tbody tr th:only-of-type {\n",
       "        vertical-align: middle;\n",
       "    }\n",
       "\n",
       "    .dataframe tbody tr th {\n",
       "        vertical-align: top;\n",
       "    }\n",
       "\n",
       "    .dataframe thead th {\n",
       "        text-align: right;\n",
       "    }\n",
       "</style>\n",
       "<table border=\"1\" class=\"dataframe\">\n",
       "  <thead>\n",
       "    <tr style=\"text-align: right;\">\n",
       "      <th></th>\n",
       "      <th>sex</th>\n",
       "      <th>adm</th>\n",
       "      <th>agl</th>\n",
       "      <th>mur</th>\n",
       "    </tr>\n",
       "  </thead>\n",
       "  <tbody>\n",
       "    <tr>\n",
       "      <th>0</th>\n",
       "      <td>m</td>\n",
       "      <td>d</td>\n",
       "      <td>t</td>\n",
       "      <td>f</td>\n",
       "    </tr>\n",
       "    <tr>\n",
       "      <th>1</th>\n",
       "      <td>m</td>\n",
       "      <td>c</td>\n",
       "      <td>f</td>\n",
       "      <td>f</td>\n",
       "    </tr>\n",
       "    <tr>\n",
       "      <th>2</th>\n",
       "      <td>f</td>\n",
       "      <td>b</td>\n",
       "      <td>f</td>\n",
       "      <td>f</td>\n",
       "    </tr>\n",
       "    <tr>\n",
       "      <th>3</th>\n",
       "      <td>m</td>\n",
       "      <td>b</td>\n",
       "      <td>f</td>\n",
       "      <td>f</td>\n",
       "    </tr>\n",
       "    <tr>\n",
       "      <th>4</th>\n",
       "      <td>f</td>\n",
       "      <td>a</td>\n",
       "      <td>f</td>\n",
       "      <td>t</td>\n",
       "    </tr>\n",
       "  </tbody>\n",
       "</table>\n",
       "</div>"
      ],
      "text/plain": [
       "  sex adm agl mur\n",
       "0   m   d   t   f\n",
       "1   m   c   f   f\n",
       "2   f   b   f   f\n",
       "3   m   b   f   f\n",
       "4   f   a   f   t"
      ]
     },
     "execution_count": 7,
     "metadata": {},
     "output_type": "execute_result"
    }
   ],
   "source": [
    "# Categorical indepedent variables \n",
    "\n",
    "X_cat = pneumonia[['sex', 'adm', 'agl', 'mur']]\n",
    "X_cat.head(5)"
   ]
  },
  {
   "cell_type": "code",
   "execution_count": 8,
   "metadata": {},
   "outputs": [
    {
     "data": {
      "text/plain": [
       "array([[0., 1., 0., ..., 1., 1., 0.],\n",
       "       [0., 1., 0., ..., 0., 1., 0.],\n",
       "       [1., 0., 0., ..., 0., 1., 0.],\n",
       "       ...,\n",
       "       [0., 1., 1., ..., 1., 1., 0.],\n",
       "       [0., 1., 1., ..., 0., 0., 1.],\n",
       "       [1., 0., 0., ..., 0., 1., 0.]])"
      ]
     },
     "execution_count": 8,
     "metadata": {},
     "output_type": "execute_result"
    }
   ],
   "source": [
    "# Encoding categorical variables \n",
    "\n",
    "from sklearn.preprocessing import OneHotEncoder\n",
    "onehotencoder = OneHotEncoder()\n",
    "X_cat = onehotencoder.fit_transform(X_cat).toarray()\n",
    "X_cat"
   ]
  },
  {
   "cell_type": "code",
   "execution_count": 9,
   "metadata": {},
   "outputs": [
    {
     "data": {
      "text/html": [
       "<div>\n",
       "<style scoped>\n",
       "    .dataframe tbody tr th:only-of-type {\n",
       "        vertical-align: middle;\n",
       "    }\n",
       "\n",
       "    .dataframe tbody tr th {\n",
       "        vertical-align: top;\n",
       "    }\n",
       "\n",
       "    .dataframe thead th {\n",
       "        text-align: right;\n",
       "    }\n",
       "</style>\n",
       "<table border=\"1\" class=\"dataframe\">\n",
       "  <thead>\n",
       "    <tr style=\"text-align: right;\">\n",
       "      <th></th>\n",
       "      <th>0</th>\n",
       "      <th>1</th>\n",
       "      <th>2</th>\n",
       "      <th>3</th>\n",
       "      <th>4</th>\n",
       "      <th>5</th>\n",
       "      <th>6</th>\n",
       "      <th>7</th>\n",
       "      <th>8</th>\n",
       "      <th>9</th>\n",
       "    </tr>\n",
       "  </thead>\n",
       "  <tbody>\n",
       "    <tr>\n",
       "      <th>0</th>\n",
       "      <td>0.0</td>\n",
       "      <td>1.0</td>\n",
       "      <td>0.0</td>\n",
       "      <td>0.0</td>\n",
       "      <td>0.0</td>\n",
       "      <td>1.0</td>\n",
       "      <td>0.0</td>\n",
       "      <td>1.0</td>\n",
       "      <td>1.0</td>\n",
       "      <td>0.0</td>\n",
       "    </tr>\n",
       "    <tr>\n",
       "      <th>1</th>\n",
       "      <td>0.0</td>\n",
       "      <td>1.0</td>\n",
       "      <td>0.0</td>\n",
       "      <td>0.0</td>\n",
       "      <td>1.0</td>\n",
       "      <td>0.0</td>\n",
       "      <td>1.0</td>\n",
       "      <td>0.0</td>\n",
       "      <td>1.0</td>\n",
       "      <td>0.0</td>\n",
       "    </tr>\n",
       "    <tr>\n",
       "      <th>2</th>\n",
       "      <td>1.0</td>\n",
       "      <td>0.0</td>\n",
       "      <td>0.0</td>\n",
       "      <td>1.0</td>\n",
       "      <td>0.0</td>\n",
       "      <td>0.0</td>\n",
       "      <td>1.0</td>\n",
       "      <td>0.0</td>\n",
       "      <td>1.0</td>\n",
       "      <td>0.0</td>\n",
       "    </tr>\n",
       "    <tr>\n",
       "      <th>3</th>\n",
       "      <td>0.0</td>\n",
       "      <td>1.0</td>\n",
       "      <td>0.0</td>\n",
       "      <td>1.0</td>\n",
       "      <td>0.0</td>\n",
       "      <td>0.0</td>\n",
       "      <td>1.0</td>\n",
       "      <td>0.0</td>\n",
       "      <td>1.0</td>\n",
       "      <td>0.0</td>\n",
       "    </tr>\n",
       "    <tr>\n",
       "      <th>4</th>\n",
       "      <td>1.0</td>\n",
       "      <td>0.0</td>\n",
       "      <td>1.0</td>\n",
       "      <td>0.0</td>\n",
       "      <td>0.0</td>\n",
       "      <td>0.0</td>\n",
       "      <td>1.0</td>\n",
       "      <td>0.0</td>\n",
       "      <td>0.0</td>\n",
       "      <td>1.0</td>\n",
       "    </tr>\n",
       "  </tbody>\n",
       "</table>\n",
       "</div>"
      ],
      "text/plain": [
       "     0    1    2    3    4    5    6    7    8    9\n",
       "0  0.0  1.0  0.0  0.0  0.0  1.0  0.0  1.0  1.0  0.0\n",
       "1  0.0  1.0  0.0  0.0  1.0  0.0  1.0  0.0  1.0  0.0\n",
       "2  1.0  0.0  0.0  1.0  0.0  0.0  1.0  0.0  1.0  0.0\n",
       "3  0.0  1.0  0.0  1.0  0.0  0.0  1.0  0.0  1.0  0.0\n",
       "4  1.0  0.0  1.0  0.0  0.0  0.0  1.0  0.0  0.0  1.0"
      ]
     },
     "execution_count": 9,
     "metadata": {},
     "output_type": "execute_result"
    }
   ],
   "source": [
    "# Returning categorical variables to dataframe\n",
    "\n",
    "X_cat = pd.DataFrame(X_cat)\n",
    "X_cat.head()"
   ]
  },
  {
   "cell_type": "code",
   "execution_count": 10,
   "metadata": {},
   "outputs": [
    {
     "data": {
      "text/html": [
       "<div>\n",
       "<style scoped>\n",
       "    .dataframe tbody tr th:only-of-type {\n",
       "        vertical-align: middle;\n",
       "    }\n",
       "\n",
       "    .dataframe tbody tr th {\n",
       "        vertical-align: top;\n",
       "    }\n",
       "\n",
       "    .dataframe thead th {\n",
       "        text-align: right;\n",
       "    }\n",
       "</style>\n",
       "<table border=\"1\" class=\"dataframe\">\n",
       "  <thead>\n",
       "    <tr style=\"text-align: right;\">\n",
       "      <th></th>\n",
       "      <th>age</th>\n",
       "      <th>sbp</th>\n",
       "      <th>scl</th>\n",
       "      <th>inf</th>\n",
       "      <th>her</th>\n",
       "      <th>std</th>\n",
       "      <th>ste</th>\n",
       "      <th>flu</th>\n",
       "    </tr>\n",
       "  </thead>\n",
       "  <tbody>\n",
       "    <tr>\n",
       "      <th>0</th>\n",
       "      <td>65</td>\n",
       "      <td>149</td>\n",
       "      <td>234</td>\n",
       "      <td>0</td>\n",
       "      <td>150</td>\n",
       "      <td>2.3</td>\n",
       "      <td>0</td>\n",
       "      <td>0</td>\n",
       "    </tr>\n",
       "    <tr>\n",
       "      <th>1</th>\n",
       "      <td>41</td>\n",
       "      <td>135</td>\n",
       "      <td>253</td>\n",
       "      <td>1</td>\n",
       "      <td>190</td>\n",
       "      <td>3.5</td>\n",
       "      <td>0</td>\n",
       "      <td>0</td>\n",
       "    </tr>\n",
       "    <tr>\n",
       "      <th>2</th>\n",
       "      <td>44</td>\n",
       "      <td>135</td>\n",
       "      <td>207</td>\n",
       "      <td>0</td>\n",
       "      <td>174</td>\n",
       "      <td>1.4</td>\n",
       "      <td>2</td>\n",
       "      <td>0</td>\n",
       "    </tr>\n",
       "    <tr>\n",
       "      <th>3</th>\n",
       "      <td>57</td>\n",
       "      <td>125</td>\n",
       "      <td>239</td>\n",
       "      <td>1</td>\n",
       "      <td>179</td>\n",
       "      <td>0.8</td>\n",
       "      <td>2</td>\n",
       "      <td>0</td>\n",
       "    </tr>\n",
       "    <tr>\n",
       "      <th>4</th>\n",
       "      <td>60</td>\n",
       "      <td>120</td>\n",
       "      <td>359</td>\n",
       "      <td>1</td>\n",
       "      <td>163</td>\n",
       "      <td>0.6</td>\n",
       "      <td>2</td>\n",
       "      <td>0</td>\n",
       "    </tr>\n",
       "  </tbody>\n",
       "</table>\n",
       "</div>"
      ],
      "text/plain": [
       "   age  sbp  scl  inf  her  std  ste  flu\n",
       "0   65  149  234    0  150  2.3    0    0\n",
       "1   41  135  253    1  190  3.5    0    0\n",
       "2   44  135  207    0  174  1.4    2    0\n",
       "3   57  125  239    1  179  0.8    2    0\n",
       "4   60  120  359    1  163  0.6    2    0"
      ]
     },
     "execution_count": 10,
     "metadata": {},
     "output_type": "execute_result"
    }
   ],
   "source": [
    "# Numerical indepedent variables \n",
    "\n",
    "X_num = pneumonia[['age', 'sbp', 'scl','inf','her', 'std','ste', 'flu']]\n",
    "X_num.head(5)"
   ]
  },
  {
   "cell_type": "code",
   "execution_count": 11,
   "metadata": {},
   "outputs": [
    {
     "data": {
      "text/html": [
       "<div>\n",
       "<style scoped>\n",
       "    .dataframe tbody tr th:only-of-type {\n",
       "        vertical-align: middle;\n",
       "    }\n",
       "\n",
       "    .dataframe tbody tr th {\n",
       "        vertical-align: top;\n",
       "    }\n",
       "\n",
       "    .dataframe thead th {\n",
       "        text-align: right;\n",
       "    }\n",
       "</style>\n",
       "<table border=\"1\" class=\"dataframe\">\n",
       "  <thead>\n",
       "    <tr style=\"text-align: right;\">\n",
       "      <th></th>\n",
       "      <th>0</th>\n",
       "      <th>1</th>\n",
       "      <th>2</th>\n",
       "      <th>3</th>\n",
       "      <th>4</th>\n",
       "      <th>5</th>\n",
       "      <th>6</th>\n",
       "      <th>7</th>\n",
       "      <th>8</th>\n",
       "      <th>9</th>\n",
       "      <th>age</th>\n",
       "      <th>sbp</th>\n",
       "      <th>scl</th>\n",
       "      <th>inf</th>\n",
       "      <th>her</th>\n",
       "      <th>std</th>\n",
       "      <th>ste</th>\n",
       "      <th>flu</th>\n",
       "    </tr>\n",
       "  </thead>\n",
       "  <tbody>\n",
       "    <tr>\n",
       "      <th>0</th>\n",
       "      <td>0.0</td>\n",
       "      <td>1.0</td>\n",
       "      <td>0.0</td>\n",
       "      <td>0.0</td>\n",
       "      <td>0.0</td>\n",
       "      <td>1.0</td>\n",
       "      <td>0.0</td>\n",
       "      <td>1.0</td>\n",
       "      <td>1.0</td>\n",
       "      <td>0.0</td>\n",
       "      <td>65</td>\n",
       "      <td>149</td>\n",
       "      <td>234</td>\n",
       "      <td>0</td>\n",
       "      <td>150</td>\n",
       "      <td>2.3</td>\n",
       "      <td>0</td>\n",
       "      <td>0</td>\n",
       "    </tr>\n",
       "    <tr>\n",
       "      <th>1</th>\n",
       "      <td>0.0</td>\n",
       "      <td>1.0</td>\n",
       "      <td>0.0</td>\n",
       "      <td>0.0</td>\n",
       "      <td>1.0</td>\n",
       "      <td>0.0</td>\n",
       "      <td>1.0</td>\n",
       "      <td>0.0</td>\n",
       "      <td>1.0</td>\n",
       "      <td>0.0</td>\n",
       "      <td>41</td>\n",
       "      <td>135</td>\n",
       "      <td>253</td>\n",
       "      <td>1</td>\n",
       "      <td>190</td>\n",
       "      <td>3.5</td>\n",
       "      <td>0</td>\n",
       "      <td>0</td>\n",
       "    </tr>\n",
       "    <tr>\n",
       "      <th>2</th>\n",
       "      <td>1.0</td>\n",
       "      <td>0.0</td>\n",
       "      <td>0.0</td>\n",
       "      <td>1.0</td>\n",
       "      <td>0.0</td>\n",
       "      <td>0.0</td>\n",
       "      <td>1.0</td>\n",
       "      <td>0.0</td>\n",
       "      <td>1.0</td>\n",
       "      <td>0.0</td>\n",
       "      <td>44</td>\n",
       "      <td>135</td>\n",
       "      <td>207</td>\n",
       "      <td>0</td>\n",
       "      <td>174</td>\n",
       "      <td>1.4</td>\n",
       "      <td>2</td>\n",
       "      <td>0</td>\n",
       "    </tr>\n",
       "    <tr>\n",
       "      <th>3</th>\n",
       "      <td>0.0</td>\n",
       "      <td>1.0</td>\n",
       "      <td>0.0</td>\n",
       "      <td>1.0</td>\n",
       "      <td>0.0</td>\n",
       "      <td>0.0</td>\n",
       "      <td>1.0</td>\n",
       "      <td>0.0</td>\n",
       "      <td>1.0</td>\n",
       "      <td>0.0</td>\n",
       "      <td>57</td>\n",
       "      <td>125</td>\n",
       "      <td>239</td>\n",
       "      <td>1</td>\n",
       "      <td>179</td>\n",
       "      <td>0.8</td>\n",
       "      <td>2</td>\n",
       "      <td>0</td>\n",
       "    </tr>\n",
       "    <tr>\n",
       "      <th>4</th>\n",
       "      <td>1.0</td>\n",
       "      <td>0.0</td>\n",
       "      <td>1.0</td>\n",
       "      <td>0.0</td>\n",
       "      <td>0.0</td>\n",
       "      <td>0.0</td>\n",
       "      <td>1.0</td>\n",
       "      <td>0.0</td>\n",
       "      <td>0.0</td>\n",
       "      <td>1.0</td>\n",
       "      <td>60</td>\n",
       "      <td>120</td>\n",
       "      <td>359</td>\n",
       "      <td>1</td>\n",
       "      <td>163</td>\n",
       "      <td>0.6</td>\n",
       "      <td>2</td>\n",
       "      <td>0</td>\n",
       "    </tr>\n",
       "  </tbody>\n",
       "</table>\n",
       "</div>"
      ],
      "text/plain": [
       "     0    1    2    3    4    5    6    7    8    9  age  sbp  scl  inf  her  \\\n",
       "0  0.0  1.0  0.0  0.0  0.0  1.0  0.0  1.0  1.0  0.0   65  149  234    0  150   \n",
       "1  0.0  1.0  0.0  0.0  1.0  0.0  1.0  0.0  1.0  0.0   41  135  253    1  190   \n",
       "2  1.0  0.0  0.0  1.0  0.0  0.0  1.0  0.0  1.0  0.0   44  135  207    0  174   \n",
       "3  0.0  1.0  0.0  1.0  0.0  0.0  1.0  0.0  1.0  0.0   57  125  239    1  179   \n",
       "4  1.0  0.0  1.0  0.0  0.0  0.0  1.0  0.0  0.0  1.0   60  120  359    1  163   \n",
       "\n",
       "   std  ste  flu  \n",
       "0  2.3    0    0  \n",
       "1  3.5    0    0  \n",
       "2  1.4    2    0  \n",
       "3  0.8    2    0  \n",
       "4  0.6    2    0  "
      ]
     },
     "execution_count": 11,
     "metadata": {},
     "output_type": "execute_result"
    }
   ],
   "source": [
    "# Concatenation of categorical and numberical variables\n",
    "\n",
    "X_all = pd.concat([X_cat, X_num], axis = 1)\n",
    "X_all.head(5)"
   ]
  },
  {
   "cell_type": "code",
   "execution_count": 12,
   "metadata": {},
   "outputs": [
    {
     "name": "stdout",
     "output_type": "stream",
     "text": [
      "[[0.         1.         0.         ... 0.37096774 0.         0.        ]\n",
      " [0.         1.         0.         ... 0.56451613 0.         0.        ]\n",
      " [1.         0.         0.         ... 0.22580645 1.         0.        ]\n",
      " ...\n",
      " [0.         1.         1.         ... 0.5483871  0.5        0.5       ]\n",
      " [0.         1.         1.         ... 0.19354839 0.5        0.25      ]\n",
      " [1.         0.         0.         ... 0.         0.5        0.25      ]]\n"
     ]
    },
    {
     "data": {
      "text/plain": [
       "numpy.ndarray"
      ]
     },
     "execution_count": 12,
     "metadata": {},
     "output_type": "execute_result"
    }
   ],
   "source": [
    "# Scaling indepedent variables in new dataframe\n",
    "\n",
    "from sklearn.preprocessing import MinMaxScaler\n",
    "scaler = MinMaxScaler()\n",
    "X = scaler.fit_transform(X_all)\n",
    "print(X)\n",
    "type(X)"
   ]
  },
  {
   "cell_type": "code",
   "execution_count": 13,
   "metadata": {
    "id": "VpBoPnQUkUTI"
   },
   "outputs": [
    {
     "data": {
      "text/plain": [
       "array(['t', 't', 't', 't', 't', 't', 't', 't', 't', 't', 't', 't', 't',\n",
       "       't', 't', 't', 't', 't', 't', 't', 't', 't', 't', 't', 't', 't',\n",
       "       't', 't', 't', 't', 't', 't', 't', 't', 't', 't', 't', 't', 't',\n",
       "       't', 't', 't', 't', 't', 't', 't', 't', 't', 't', 't', 't', 't',\n",
       "       't', 't', 't', 't', 't', 't', 't', 't', 't', 't', 't', 't', 't',\n",
       "       't', 't', 't', 't', 't', 't', 't', 't', 't', 't', 't', 't', 't',\n",
       "       't', 't', 't', 't', 't', 't', 't', 't', 't', 't', 't', 't', 't',\n",
       "       't', 't', 't', 't', 't', 't', 't', 't', 't', 't', 't', 't', 't',\n",
       "       't', 't', 't', 't', 't', 't', 't', 't', 't', 't', 't', 't', 't',\n",
       "       't', 't', 't', 't', 't', 't', 't', 't', 't', 't', 't', 't', 't',\n",
       "       't', 't', 't', 't', 't', 't', 't', 't', 't', 't', 't', 't', 't',\n",
       "       't', 't', 't', 't', 't', 't', 't', 't', 't', 't', 't', 't', 't',\n",
       "       't', 't', 't', 't', 't', 't', 't', 'f', 'f', 'f', 'f', 'f', 'f',\n",
       "       'f', 'f', 'f', 'f', 'f', 'f', 'f', 'f', 'f', 'f', 'f', 'f', 'f',\n",
       "       'f', 'f', 'f', 'f', 'f', 'f', 'f', 'f', 'f', 'f', 'f', 'f', 'f',\n",
       "       'f', 'f', 'f', 'f', 'f', 'f', 'f', 'f', 'f', 'f', 'f', 'f', 'f',\n",
       "       'f', 'f', 'f', 'f', 'f', 'f', 'f', 'f', 'f', 'f', 'f', 'f', 'f',\n",
       "       'f', 'f', 'f', 'f', 'f', 'f', 'f', 'f', 'f', 'f', 'f', 'f', 'f',\n",
       "       'f', 'f', 'f', 'f', 'f', 'f', 'f', 'f', 'f', 'f', 'f', 'f', 'f',\n",
       "       'f', 'f', 'f', 'f', 'f', 'f', 'f', 'f', 'f', 'f', 'f', 'f', 'f',\n",
       "       'f', 'f', 'f', 'f', 'f', 'f', 'f', 'f', 'f', 'f', 'f', 'f', 'f',\n",
       "       'f', 'f', 'f', 'f', 'f', 'f', 'f', 'f', 'f', 'f', 'f', 'f', 'f',\n",
       "       'f', 'f', 'f', 'f', 'f', 'f', 'f', 'f', 'f', 'f', 'f', 'f', 'f'],\n",
       "      dtype=object)"
      ]
     },
     "execution_count": 13,
     "metadata": {},
     "output_type": "execute_result"
    }
   ],
   "source": [
    "# Dependent variable \n",
    "\n",
    "y = pneumonia.iloc[:, 12].values\n",
    "y"
   ]
  },
  {
   "cell_type": "code",
   "execution_count": 14,
   "metadata": {},
   "outputs": [
    {
     "name": "stdout",
     "output_type": "stream",
     "text": [
      "[1 1 1 1 1 1 1 1 1 1 1 1 1 1 1 1 1 1 1 1 1 1 1 1 1 1 1 1 1 1 1 1 1 1 1 1 1\n",
      " 1 1 1 1 1 1 1 1 1 1 1 1 1 1 1 1 1 1 1 1 1 1 1 1 1 1 1 1 1 1 1 1 1 1 1 1 1\n",
      " 1 1 1 1 1 1 1 1 1 1 1 1 1 1 1 1 1 1 1 1 1 1 1 1 1 1 1 1 1 1 1 1 1 1 1 1 1\n",
      " 1 1 1 1 1 1 1 1 1 1 1 1 1 1 1 1 1 1 1 1 1 1 1 1 1 1 1 1 1 1 1 1 1 1 1 1 1\n",
      " 1 1 1 1 1 1 1 1 1 1 1 1 1 1 1 0 0 0 0 0 0 0 0 0 0 0 0 0 0 0 0 0 0 0 0 0 0\n",
      " 0 0 0 0 0 0 0 0 0 0 0 0 0 0 0 0 0 0 0 0 0 0 0 0 0 0 0 0 0 0 0 0 0 0 0 0 0\n",
      " 0 0 0 0 0 0 0 0 0 0 0 0 0 0 0 0 0 0 0 0 0 0 0 0 0 0 0 0 0 0 0 0 0 0 0 0 0\n",
      " 0 0 0 0 0 0 0 0 0 0 0 0 0 0 0 0 0 0 0 0 0 0 0 0 0 0 0 0 0 0 0 0 0 0 0 0 0\n",
      " 0 0 0]\n"
     ]
    }
   ],
   "source": [
    "# Encoding dependent variable \n",
    "\n",
    "from sklearn.preprocessing import LabelEncoder\n",
    "y = LabelEncoder().fit_transform(y)\n",
    "print(y)"
   ]
  },
  {
   "cell_type": "code",
   "execution_count": 15,
   "metadata": {
    "id": "xwYJ_63JkX3t"
   },
   "outputs": [],
   "source": [
    "# Splitting the dataset into the training & test set\n",
    "\n",
    "from sklearn.model_selection import train_test_split\n",
    "X_train, X_test, y_train, y_test = train_test_split(X, y, test_size = 0.2)"
   ]
  },
  {
   "cell_type": "code",
   "execution_count": 16,
   "metadata": {
    "id": "Yl6fmPJj3cCX"
   },
   "outputs": [
    {
     "name": "stdout",
     "output_type": "stream",
     "text": [
      "Model: \"sequential\"\n",
      "_________________________________________________________________\n",
      "Layer (type)                 Output Shape              Param #   \n",
      "=================================================================\n",
      "dense (Dense)                (None, 400)               7600      \n",
      "_________________________________________________________________\n",
      "dropout (Dropout)            (None, 400)               0         \n",
      "_________________________________________________________________\n",
      "dense_1 (Dense)              (None, 400)               160400    \n",
      "_________________________________________________________________\n",
      "dropout_1 (Dropout)          (None, 400)               0         \n",
      "_________________________________________________________________\n",
      "dense_2 (Dense)              (None, 1)                 401       \n",
      "=================================================================\n",
      "Total params: 168,401\n",
      "Trainable params: 168,401\n",
      "Non-trainable params: 0\n",
      "_________________________________________________________________\n"
     ]
    }
   ],
   "source": [
    "# Build the ANN model\n",
    "\n",
    "classifier = tf.keras.models.Sequential()\n",
    "classifier.add(tf.keras.layers.Dense(units=400, activation='relu', input_shape=(18, )))\n",
    "classifier.add(tf.keras.layers.Dropout(0.2))\n",
    "\n",
    "classifier.add(tf.keras.layers.Dense(units=400, activation='relu'))\n",
    "classifier.add(tf.keras.layers.Dropout(0.2))\n",
    "\n",
    "classifier.add(tf.keras.layers.Dense(units=1, activation='sigmoid'))\n",
    "\n",
    "classifier.summary()\n"
   ]
  },
  {
   "cell_type": "code",
   "execution_count": 17,
   "metadata": {
    "id": "BYmvNpNw5Act"
   },
   "outputs": [],
   "source": [
    "# Compile the ANN model\n",
    "\n",
    "classifier.compile(optimizer='Adam', loss='binary_crossentropy', metrics = ['accuracy'])"
   ]
  },
  {
   "cell_type": "code",
   "execution_count": 18,
   "metadata": {
    "colab": {
     "base_uri": "https://localhost:8080/",
     "height": 1000
    },
    "id": "tpia0VBS5Ljw",
    "outputId": "29f257a5-a2e2-4d89-be42-5cc226d94d09"
   },
   "outputs": [
    {
     "name": "stdout",
     "output_type": "stream",
     "text": [
      "Train on 239 samples\n",
      "Epoch 1/100\n",
      "239/239 [==============================] - 1s 3ms/sample - loss: 0.6396 - accuracy: 0.6234\n",
      "Epoch 2/100\n",
      "239/239 [==============================] - 0s 295us/sample - loss: 0.5185 - accuracy: 0.7657\n",
      "Epoch 3/100\n",
      "239/239 [==============================] - 0s 297us/sample - loss: 0.4612 - accuracy: 0.7782\n",
      "Epoch 4/100\n",
      "239/239 [==============================] - 0s 272us/sample - loss: 0.4230 - accuracy: 0.7992\n",
      "Epoch 5/100\n",
      "239/239 [==============================] - 0s 277us/sample - loss: 0.3935 - accuracy: 0.8075\n",
      "Epoch 6/100\n",
      "239/239 [==============================] - 0s 265us/sample - loss: 0.3780 - accuracy: 0.8201\n",
      "Epoch 7/100\n",
      "239/239 [==============================] - 0s 280us/sample - loss: 0.3725 - accuracy: 0.8285\n",
      "Epoch 8/100\n",
      "239/239 [==============================] - 0s 267us/sample - loss: 0.3617 - accuracy: 0.8326\n",
      "Epoch 9/100\n",
      "239/239 [==============================] - 0s 262us/sample - loss: 0.3624 - accuracy: 0.8326\n",
      "Epoch 10/100\n",
      "239/239 [==============================] - 0s 282us/sample - loss: 0.3423 - accuracy: 0.8285\n",
      "Epoch 11/100\n",
      "239/239 [==============================] - 0s 275us/sample - loss: 0.3560 - accuracy: 0.8285\n",
      "Epoch 12/100\n",
      "239/239 [==============================] - 0s 281us/sample - loss: 0.3456 - accuracy: 0.8368\n",
      "Epoch 13/100\n",
      "239/239 [==============================] - 0s 269us/sample - loss: 0.3360 - accuracy: 0.8326\n",
      "Epoch 14/100\n",
      "239/239 [==============================] - 0s 277us/sample - loss: 0.3823 - accuracy: 0.8117\n",
      "Epoch 15/100\n",
      "239/239 [==============================] - 0s 278us/sample - loss: 0.3162 - accuracy: 0.8494\n",
      "Epoch 16/100\n",
      "239/239 [==============================] - 0s 274us/sample - loss: 0.3076 - accuracy: 0.8661\n",
      "Epoch 17/100\n",
      "239/239 [==============================] - 0s 265us/sample - loss: 0.3033 - accuracy: 0.8661\n",
      "Epoch 18/100\n",
      "239/239 [==============================] - 0s 284us/sample - loss: 0.3051 - accuracy: 0.8619\n",
      "Epoch 19/100\n",
      "239/239 [==============================] - 0s 255us/sample - loss: 0.3027 - accuracy: 0.8703\n",
      "Epoch 20/100\n",
      "239/239 [==============================] - 0s 276us/sample - loss: 0.2989 - accuracy: 0.8745\n",
      "Epoch 21/100\n",
      "239/239 [==============================] - 0s 270us/sample - loss: 0.2848 - accuracy: 0.8536\n",
      "Epoch 22/100\n",
      "239/239 [==============================] - 0s 257us/sample - loss: 0.2729 - accuracy: 0.8828\n",
      "Epoch 23/100\n",
      "239/239 [==============================] - 0s 250us/sample - loss: 0.2891 - accuracy: 0.8661\n",
      "Epoch 24/100\n",
      "239/239 [==============================] - 0s 279us/sample - loss: 0.2741 - accuracy: 0.8870\n",
      "Epoch 25/100\n",
      "239/239 [==============================] - 0s 267us/sample - loss: 0.2627 - accuracy: 0.8787\n",
      "Epoch 26/100\n",
      "239/239 [==============================] - 0s 279us/sample - loss: 0.2529 - accuracy: 0.9079\n",
      "Epoch 27/100\n",
      "239/239 [==============================] - 0s 301us/sample - loss: 0.2571 - accuracy: 0.8954\n",
      "Epoch 28/100\n",
      "239/239 [==============================] - 0s 278us/sample - loss: 0.2378 - accuracy: 0.9121\n",
      "Epoch 29/100\n",
      "239/239 [==============================] - 0s 270us/sample - loss: 0.2381 - accuracy: 0.9038\n",
      "Epoch 30/100\n",
      "239/239 [==============================] - 0s 287us/sample - loss: 0.2530 - accuracy: 0.8912\n",
      "Epoch 31/100\n",
      "239/239 [==============================] - 0s 282us/sample - loss: 0.2468 - accuracy: 0.8703\n",
      "Epoch 32/100\n",
      "239/239 [==============================] - 0s 269us/sample - loss: 0.2414 - accuracy: 0.9079\n",
      "Epoch 33/100\n",
      "239/239 [==============================] - 0s 277us/sample - loss: 0.2125 - accuracy: 0.9163\n",
      "Epoch 34/100\n",
      "239/239 [==============================] - 0s 315us/sample - loss: 0.2144 - accuracy: 0.9163\n",
      "Epoch 35/100\n",
      "239/239 [==============================] - 0s 278us/sample - loss: 0.2087 - accuracy: 0.9121\n",
      "Epoch 36/100\n",
      "239/239 [==============================] - 0s 276us/sample - loss: 0.1965 - accuracy: 0.9331\n",
      "Epoch 37/100\n",
      "239/239 [==============================] - 0s 262us/sample - loss: 0.2177 - accuracy: 0.9121\n",
      "Epoch 38/100\n",
      "239/239 [==============================] - 0s 289us/sample - loss: 0.1899 - accuracy: 0.9414\n",
      "Epoch 39/100\n",
      "239/239 [==============================] - 0s 277us/sample - loss: 0.2039 - accuracy: 0.9331\n",
      "Epoch 40/100\n",
      "239/239 [==============================] - 0s 268us/sample - loss: 0.1899 - accuracy: 0.9331\n",
      "Epoch 41/100\n",
      "239/239 [==============================] - 0s 272us/sample - loss: 0.2176 - accuracy: 0.9163\n",
      "Epoch 42/100\n",
      "239/239 [==============================] - 0s 287us/sample - loss: 0.1960 - accuracy: 0.9289\n",
      "Epoch 43/100\n",
      "239/239 [==============================] - 0s 284us/sample - loss: 0.2023 - accuracy: 0.9205\n",
      "Epoch 44/100\n",
      "239/239 [==============================] - 0s 266us/sample - loss: 0.1782 - accuracy: 0.9372\n",
      "Epoch 45/100\n",
      "239/239 [==============================] - 0s 259us/sample - loss: 0.1662 - accuracy: 0.9414\n",
      "Epoch 46/100\n",
      "239/239 [==============================] - 0s 286us/sample - loss: 0.1800 - accuracy: 0.9414\n",
      "Epoch 47/100\n",
      "239/239 [==============================] - 0s 268us/sample - loss: 0.1732 - accuracy: 0.9289\n",
      "Epoch 48/100\n",
      "239/239 [==============================] - 0s 271us/sample - loss: 0.1674 - accuracy: 0.9331\n",
      "Epoch 49/100\n",
      "239/239 [==============================] - 0s 276us/sample - loss: 0.1669 - accuracy: 0.9372\n",
      "Epoch 50/100\n",
      "239/239 [==============================] - 0s 306us/sample - loss: 0.1704 - accuracy: 0.9372\n",
      "Epoch 51/100\n",
      "239/239 [==============================] - 0s 364us/sample - loss: 0.1435 - accuracy: 0.9665\n",
      "Epoch 52/100\n",
      "239/239 [==============================] - 0s 306us/sample - loss: 0.1464 - accuracy: 0.9582\n",
      "Epoch 53/100\n",
      "239/239 [==============================] - 0s 319us/sample - loss: 0.1413 - accuracy: 0.9582\n",
      "Epoch 54/100\n",
      "239/239 [==============================] - 0s 279us/sample - loss: 0.1250 - accuracy: 0.9582\n",
      "Epoch 55/100\n",
      "239/239 [==============================] - 0s 267us/sample - loss: 0.1360 - accuracy: 0.9665\n",
      "Epoch 56/100\n",
      "239/239 [==============================] - 0s 280us/sample - loss: 0.1486 - accuracy: 0.9372\n",
      "Epoch 57/100\n",
      "239/239 [==============================] - 0s 285us/sample - loss: 0.1446 - accuracy: 0.9582\n",
      "Epoch 58/100\n",
      "239/239 [==============================] - 0s 287us/sample - loss: 0.1292 - accuracy: 0.9665\n",
      "Epoch 59/100\n",
      "239/239 [==============================] - 0s 283us/sample - loss: 0.1040 - accuracy: 0.9749\n",
      "Epoch 60/100\n",
      "239/239 [==============================] - 0s 279us/sample - loss: 0.1317 - accuracy: 0.9540\n",
      "Epoch 61/100\n",
      "239/239 [==============================] - 0s 276us/sample - loss: 0.1296 - accuracy: 0.9665\n",
      "Epoch 62/100\n",
      "239/239 [==============================] - 0s 273us/sample - loss: 0.1659 - accuracy: 0.9331\n",
      "Epoch 63/100\n",
      "239/239 [==============================] - 0s 275us/sample - loss: 0.1389 - accuracy: 0.9372\n",
      "Epoch 64/100\n",
      "239/239 [==============================] - 0s 268us/sample - loss: 0.1312 - accuracy: 0.9372\n",
      "Epoch 65/100\n",
      "239/239 [==============================] - 0s 264us/sample - loss: 0.1246 - accuracy: 0.9540\n",
      "Epoch 66/100\n",
      "239/239 [==============================] - 0s 263us/sample - loss: 0.1120 - accuracy: 0.9665\n",
      "Epoch 67/100\n",
      "239/239 [==============================] - 0s 286us/sample - loss: 0.1029 - accuracy: 0.9707\n",
      "Epoch 68/100\n",
      "239/239 [==============================] - 0s 284us/sample - loss: 0.0956 - accuracy: 0.9791\n",
      "Epoch 69/100\n",
      "239/239 [==============================] - 0s 273us/sample - loss: 0.1033 - accuracy: 0.9707\n",
      "Epoch 70/100\n",
      "239/239 [==============================] - 0s 273us/sample - loss: 0.0905 - accuracy: 0.9749\n",
      "Epoch 71/100\n",
      "239/239 [==============================] - 0s 282us/sample - loss: 0.0803 - accuracy: 0.9707\n",
      "Epoch 72/100\n",
      "239/239 [==============================] - 0s 305us/sample - loss: 0.0833 - accuracy: 0.9749\n",
      "Epoch 73/100\n",
      "239/239 [==============================] - 0s 295us/sample - loss: 0.0883 - accuracy: 0.9707\n",
      "Epoch 74/100\n",
      "239/239 [==============================] - 0s 294us/sample - loss: 0.0818 - accuracy: 0.9874\n",
      "Epoch 75/100\n",
      "239/239 [==============================] - 0s 284us/sample - loss: 0.0854 - accuracy: 0.9791\n",
      "Epoch 76/100\n",
      "239/239 [==============================] - 0s 262us/sample - loss: 0.0787 - accuracy: 0.9749\n",
      "Epoch 77/100\n",
      "239/239 [==============================] - 0s 279us/sample - loss: 0.0735 - accuracy: 0.9874\n",
      "Epoch 78/100\n",
      "239/239 [==============================] - 0s 276us/sample - loss: 0.0775 - accuracy: 0.9749\n",
      "Epoch 79/100\n",
      "239/239 [==============================] - 0s 269us/sample - loss: 0.0806 - accuracy: 0.9749\n",
      "Epoch 80/100\n",
      "239/239 [==============================] - 0s 296us/sample - loss: 0.0797 - accuracy: 0.9791\n",
      "Epoch 81/100\n",
      "239/239 [==============================] - 0s 272us/sample - loss: 0.0807 - accuracy: 0.9665\n",
      "Epoch 82/100\n",
      "239/239 [==============================] - 0s 271us/sample - loss: 0.0691 - accuracy: 0.9916\n",
      "Epoch 83/100\n",
      "239/239 [==============================] - 0s 274us/sample - loss: 0.0748 - accuracy: 0.9833\n",
      "Epoch 84/100\n",
      "239/239 [==============================] - 0s 269us/sample - loss: 0.0780 - accuracy: 0.9707\n",
      "Epoch 85/100\n",
      "239/239 [==============================] - 0s 270us/sample - loss: 0.0690 - accuracy: 0.9749\n",
      "Epoch 86/100\n",
      "239/239 [==============================] - 0s 272us/sample - loss: 0.0731 - accuracy: 0.9833\n",
      "Epoch 87/100\n",
      "239/239 [==============================] - 0s 259us/sample - loss: 0.0545 - accuracy: 0.9833\n",
      "Epoch 88/100\n",
      "239/239 [==============================] - 0s 254us/sample - loss: 0.0507 - accuracy: 0.9791\n",
      "Epoch 89/100\n",
      "239/239 [==============================] - 0s 264us/sample - loss: 0.0574 - accuracy: 0.9791\n",
      "Epoch 90/100\n",
      "239/239 [==============================] - 0s 268us/sample - loss: 0.0540 - accuracy: 0.9874\n",
      "Epoch 91/100\n",
      "239/239 [==============================] - 0s 262us/sample - loss: 0.0533 - accuracy: 0.9833\n",
      "Epoch 92/100\n",
      "239/239 [==============================] - 0s 270us/sample - loss: 0.0502 - accuracy: 0.9833\n",
      "Epoch 93/100\n",
      "239/239 [==============================] - 0s 268us/sample - loss: 0.0511 - accuracy: 0.9874\n",
      "Epoch 94/100\n",
      "239/239 [==============================] - 0s 270us/sample - loss: 0.0483 - accuracy: 0.9874\n",
      "Epoch 95/100\n",
      "239/239 [==============================] - 0s 257us/sample - loss: 0.0619 - accuracy: 0.9791\n",
      "Epoch 96/100\n",
      "239/239 [==============================] - 0s 251us/sample - loss: 0.0504 - accuracy: 0.9874\n",
      "Epoch 97/100\n",
      "239/239 [==============================] - 0s 264us/sample - loss: 0.0536 - accuracy: 0.9791\n",
      "Epoch 98/100\n",
      "239/239 [==============================] - 0s 250us/sample - loss: 0.0487 - accuracy: 0.9791\n",
      "Epoch 99/100\n",
      "239/239 [==============================] - 0s 264us/sample - loss: 0.0620 - accuracy: 0.9749\n",
      "Epoch 100/100\n",
      "239/239 [==============================] - 0s 251us/sample - loss: 0.0513 - accuracy: 0.9833\n"
     ]
    }
   ],
   "source": [
    "# Train the ANN model\n",
    "\n",
    "epochs_hist = classifier.fit(X_train, y_train, epochs = 100)"
   ]
  },
  {
   "cell_type": "code",
   "execution_count": 19,
   "metadata": {
    "id": "1ho-q0rDl2mX"
   },
   "outputs": [
    {
     "data": {
      "text/plain": [
       "array([[2.2116062e-01],\n",
       "       [8.2858837e-01],\n",
       "       [1.7509639e-02],\n",
       "       [9.9921250e-01],\n",
       "       [9.9849904e-01],\n",
       "       [7.1265042e-02],\n",
       "       [9.9807787e-01],\n",
       "       [8.6582404e-01],\n",
       "       [1.7813510e-01],\n",
       "       [5.4925507e-01],\n",
       "       [9.9995208e-01],\n",
       "       [9.9998564e-01],\n",
       "       [9.9998331e-01],\n",
       "       [9.0678120e-01],\n",
       "       [7.1488553e-01],\n",
       "       [7.6148975e-01],\n",
       "       [1.2669650e-01],\n",
       "       [9.9987149e-01],\n",
       "       [1.2630224e-04],\n",
       "       [7.9641867e-01],\n",
       "       [9.9547726e-01],\n",
       "       [9.9116719e-01],\n",
       "       [1.1026859e-06],\n",
       "       [9.9999857e-01],\n",
       "       [9.9537563e-01],\n",
       "       [6.1873019e-01],\n",
       "       [9.9990863e-01],\n",
       "       [9.9858832e-01],\n",
       "       [9.9995750e-01],\n",
       "       [9.9978459e-01],\n",
       "       [9.9999982e-01],\n",
       "       [7.4058771e-05],\n",
       "       [8.2938087e-01],\n",
       "       [9.9999714e-01],\n",
       "       [9.9925041e-01],\n",
       "       [9.9998498e-01],\n",
       "       [9.9527109e-01],\n",
       "       [1.1920929e-07],\n",
       "       [9.5665288e-01],\n",
       "       [9.9908966e-01],\n",
       "       [7.3820353e-05],\n",
       "       [9.9986804e-01],\n",
       "       [5.6888616e-01],\n",
       "       [3.2747090e-03],\n",
       "       [8.3833933e-05],\n",
       "       [8.8640016e-01],\n",
       "       [9.9999809e-01],\n",
       "       [9.6134174e-01],\n",
       "       [0.0000000e+00],\n",
       "       [1.4901161e-06],\n",
       "       [1.5313923e-03],\n",
       "       [4.0744942e-01],\n",
       "       [1.8868572e-01],\n",
       "       [9.9999887e-01],\n",
       "       [9.5494866e-01],\n",
       "       [4.7918707e-02],\n",
       "       [2.6434660e-04],\n",
       "       [6.8297982e-04],\n",
       "       [8.1093967e-02],\n",
       "       [6.2619781e-01]], dtype=float32)"
      ]
     },
     "execution_count": 19,
     "metadata": {},
     "output_type": "execute_result"
    }
   ],
   "source": [
    "# Predict respone on test dataset\n",
    "\n",
    "y_pred = classifier.predict(X_test)\n",
    "y_pred"
   ]
  },
  {
   "cell_type": "code",
   "execution_count": 20,
   "metadata": {
    "id": "QNtHuvUyl5et"
   },
   "outputs": [
    {
     "data": {
      "text/plain": [
       "array([[False],\n",
       "       [ True],\n",
       "       [False],\n",
       "       [ True],\n",
       "       [ True],\n",
       "       [False],\n",
       "       [ True],\n",
       "       [ True],\n",
       "       [False],\n",
       "       [ True],\n",
       "       [ True],\n",
       "       [ True],\n",
       "       [ True],\n",
       "       [ True],\n",
       "       [ True],\n",
       "       [ True],\n",
       "       [False],\n",
       "       [ True],\n",
       "       [False],\n",
       "       [ True],\n",
       "       [ True],\n",
       "       [ True],\n",
       "       [False],\n",
       "       [ True],\n",
       "       [ True],\n",
       "       [ True],\n",
       "       [ True],\n",
       "       [ True],\n",
       "       [ True],\n",
       "       [ True],\n",
       "       [ True],\n",
       "       [False],\n",
       "       [ True],\n",
       "       [ True],\n",
       "       [ True],\n",
       "       [ True],\n",
       "       [ True],\n",
       "       [False],\n",
       "       [ True],\n",
       "       [ True],\n",
       "       [False],\n",
       "       [ True],\n",
       "       [ True],\n",
       "       [False],\n",
       "       [False],\n",
       "       [ True],\n",
       "       [ True],\n",
       "       [ True],\n",
       "       [False],\n",
       "       [False],\n",
       "       [False],\n",
       "       [False],\n",
       "       [False],\n",
       "       [ True],\n",
       "       [ True],\n",
       "       [False],\n",
       "       [False],\n",
       "       [False],\n",
       "       [False],\n",
       "       [ True]])"
      ]
     },
     "execution_count": 20,
     "metadata": {},
     "output_type": "execute_result"
    }
   ],
   "source": [
    "# If prediction is greater than .5 is true \n",
    "\n",
    "y_pred = (y_pred > 0.5)\n",
    "y_pred"
   ]
  },
  {
   "cell_type": "code",
   "execution_count": 21,
   "metadata": {
    "colab": {
     "base_uri": "https://localhost:8080/",
     "height": 34
    },
    "id": "dfUb63035TJL",
    "outputId": "518b3480-9608-4c1f-8724-d92553f65de1"
   },
   "outputs": [
    {
     "data": {
      "text/plain": [
       "dict_keys(['loss', 'accuracy'])"
      ]
     },
     "execution_count": 21,
     "metadata": {},
     "output_type": "execute_result"
    }
   ],
   "source": [
    "# Evalute the ANN model\n",
    "\n",
    "epochs_hist.history.keys()"
   ]
  },
  {
   "cell_type": "code",
   "execution_count": 22,
   "metadata": {
    "colab": {
     "base_uri": "https://localhost:8080/",
     "height": 312
    },
    "id": "eXiDop_l5erJ",
    "outputId": "bc228254-3b5a-4c55-f338-5ce15c424a80"
   },
   "outputs": [
    {
     "data": {
      "text/plain": [
       "<matplotlib.legend.Legend at 0x7f8d085c2a50>"
      ]
     },
     "execution_count": 22,
     "metadata": {},
     "output_type": "execute_result"
    },
    {
     "data": {
      "image/png": "[encoded data removed]",
      "text/plain": [
       "<Figure size 432x288 with 1 Axes>"
      ]
     },
     "metadata": {
      "needs_background": "light"
     },
     "output_type": "display_data"
    }
   ],
   "source": [
    "# Plot loss fuction\n",
    "\n",
    "plt.plot(epochs_hist.history['loss'])\n",
    "plt.title('Model Loss Progress During Training')\n",
    "plt.xlabel('Epoch')\n",
    "plt.ylabel('Training and Validation Loss')\n",
    "plt.legend(['Training Loss'])"
   ]
  },
  {
   "cell_type": "code",
   "execution_count": 23,
   "metadata": {
    "colab": {
     "base_uri": "https://localhost:8080/",
     "height": 286
    },
    "id": "iiKRlWUSsHMD",
    "outputId": "658458c7-dada-4850-a6ba-0c8b7fbd69dd"
   },
   "outputs": [
    {
     "data": {
      "image/png": "[encoded data removed]",
      "text/plain": [
       "<Figure size 432x288 with 2 Axes>"
      ]
     },
     "metadata": {
      "needs_background": "light"
     },
     "output_type": "display_data"
    }
   ],
   "source": [
    "# Training set performance\n",
    "\n",
    "from sklearn.metrics import confusion_matrix\n",
    "\n",
    "y_train_pred = classifier.predict(X_train)\n",
    "y_train_pred = (y_train_pred > 0.5)\n",
    "cm = confusion_matrix(y_train, y_train_pred)\n",
    "sns.heatmap(cm, annot=True);"
   ]
  },
  {
   "cell_type": "code",
   "execution_count": 24,
   "metadata": {
    "colab": {
     "base_uri": "https://localhost:8080/",
     "height": 171
    },
    "id": "tsj2jrXkssRJ",
    "outputId": "6cf42a30-6c07-490c-ff9f-92d82a47feb2"
   },
   "outputs": [
    {
     "name": "stdout",
     "output_type": "stream",
     "text": [
      "              precision    recall  f1-score   support\n",
      "\n",
      "       False       0.99      1.00      1.00       115\n",
      "        True       1.00      0.99      1.00       124\n",
      "\n",
      "    accuracy                           1.00       239\n",
      "   macro avg       1.00      1.00      1.00       239\n",
      "weighted avg       1.00      1.00      1.00       239\n",
      "\n"
     ]
    }
   ],
   "source": [
    "# Classification report\n",
    "\n",
    "from sklearn.metrics import classification_report\n",
    "\n",
    "print(classification_report(y_train_pred, y_train))"
   ]
  },
  {
   "cell_type": "code",
   "execution_count": 25,
   "metadata": {
    "colab": {
     "base_uri": "https://localhost:8080/",
     "height": 286
    },
    "id": "a7WEucc2mX5Q",
    "outputId": "a0cb18ed-1c4d-44ca-be65-20618544e372"
   },
   "outputs": [
    {
     "data": {
      "image/png": "[encoded data removed]",
      "text/plain": [
       "<Figure size 432x288 with 2 Axes>"
      ]
     },
     "metadata": {
      "needs_background": "light"
     },
     "output_type": "display_data"
    }
   ],
   "source": [
    "# Testing set rerformance\n",
    "\n",
    "cm = confusion_matrix(y_test, y_pred)\n",
    "sns.heatmap(cm, annot=True);"
   ]
  },
  {
   "cell_type": "code",
   "execution_count": 26,
   "metadata": {
    "colab": {
     "base_uri": "https://localhost:8080/",
     "height": 171
    },
    "id": "RAvE7FMxmbOZ",
    "outputId": "e7401a88-8f85-45a5-ffc4-8d8e4795b1e5"
   },
   "outputs": [
    {
     "name": "stdout",
     "output_type": "stream",
     "text": [
      "              precision    recall  f1-score   support\n",
      "\n",
      "           0       0.71      0.75      0.73        20\n",
      "           1       0.87      0.85      0.86        40\n",
      "\n",
      "    accuracy                           0.82        60\n",
      "   macro avg       0.79      0.80      0.80        60\n",
      "weighted avg       0.82      0.82      0.82        60\n",
      "\n"
     ]
    }
   ],
   "source": [
    "# Classification report\n",
    "\n",
    "from sklearn.metrics import classification_report\n",
    "\n",
    "print(classification_report(y_test, y_pred))"
   ]
  }
 ],
 "metadata": {
  "colab": {
   "collapsed_sections": [],
   "name": "6. Classify Diabetes Using ANNs - Solution.ipynb",
   "provenance": []
  },
  "kernelspec": {
   "display_name": "Python 3",
   "language": "python",
   "name": "python3"
  },
  "language_info": {
   "codemirror_mode": {
    "name": "ipython",
    "version": 3
   },
   "file_extension": ".py",
   "mimetype": "text/x-python",
   "name": "python",
   "nbconvert_exporter": "python",
   "pygments_lexer": "ipython3",
   "version": "3.7.6"
  }
 },
 "nbformat": 4,
 "nbformat_minor": 1
}
